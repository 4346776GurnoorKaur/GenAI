{
  "nbformat": 4,
  "nbformat_minor": 0,
  "metadata": {
    "colab": {
      "provenance": [],
      "include_colab_link": true
    },
    "kernelspec": {
      "name": "python3",
      "display_name": "Python 3"
    },
    "language_info": {
      "name": "python"
    }
  },
  "cells": [
    {
      "cell_type": "markdown",
      "metadata": {
        "id": "view-in-github",
        "colab_type": "text"
      },
      "source": [
        "<a href=\"https://colab.research.google.com/github/4346776GurnoorKaur/GenAI/blob/main/Copy_of_Gurnoor'sModification.ipynb\" target=\"_parent\"><img src=\"https://colab.research.google.com/assets/colab-badge.svg\" alt=\"Open In Colab\"/></a>"
      ]
    },
    {
      "cell_type": "markdown",
      "source": [
        "# Title of Project"
      ],
      "metadata": {
        "id": "a8oeaNTHnTAd"
      }
    },
    {
      "cell_type": "markdown",
      "source": [
        "## Replicate-based AI Content Generation"
      ],
      "metadata": {
        "id": "FofUmVOxnYpJ"
      }
    },
    {
      "cell_type": "markdown",
      "source": [
        "### Project Description\n",
        "\n",
        "This integration enables the smooth generation of different visual content, such as photographs, movies, and GIFs, directed by precise textual prompts when using the Replicate API within the Google Colab environment.\n",
        "\n",
        "```\n",
        "Group Members\n",
        "```\n",
        "* Sarbdeep Singh - 4344120\n",
        "* Gurnoor kaur - 4346776\n"
      ],
      "metadata": {
        "id": "7fTg6bjlnehw"
      }
    },
    {
      "cell_type": "markdown",
      "source": [
        "### Brief Project Description\n",
        "\n",
        "The integration of the Replicate API into Google Colab allows users to easily generate a variety of visual content, such as photographs, movies, and GIFs, using text-based prompts. Users can guide the API to build bespoke visual representations by giving natural language signals, promoting a seamless transition from textual notions to vivid visual assets. This integration allows users to directly explore and create a wide range of visual material within the Google Colab environment, providing a user-friendly and versatile platform for content development and exploration.\n",
        "\n",
        "\n",
        "\n",
        "\n",
        "\n",
        "\n",
        "\n",
        "\n",
        "\n"
      ],
      "metadata": {
        "id": "YriYl2mYogaI"
      }
    },
    {
      "cell_type": "markdown",
      "source": [
        "### Project Objective\n",
        "\n",
        "To extend the platform's capabilities by leveraging the Replicate API within Gen AI, allowing for the replication of complicated data structures, models, and algorithms. The goal is to simplify the process of replicating AI models and data, allowing for seamless knowledge transfer and scalability across several applications.\n"
      ],
      "metadata": {
        "id": "elcPLIXbpqvc"
      }
    },
    {
      "cell_type": "markdown",
      "source": [
        "### Project Outcome"
      ],
      "metadata": {
        "id": "VbFJWVVzqBH4"
      }
    },
    {
      "cell_type": "markdown",
      "source": [
        "\n",
        "* **API Integration**: By entering the Replicate API key, users receive access to the Replicate API's set of tools and features within the Google Colab platform.\n",
        "\n",
        "* Users can provide descriptive cues in natural language, detailing the content they want to create. Prompts could include comprehensive descriptions like \"A tranquil landscape with towering mountains and a meandering river,\" or narrative signals like \"A bustling cityscape transitioning from day to night.\"\n",
        "\n",
        "* **Media Creation**: These prompts serve as creative guidelines for generating material by leveraging the Replicate API's features. The API understands the verbal clues and creates equivalent visual representations, whether static images of imagined scenes or dynamic recordings of events unfolding.\n",
        "\n",
        "* **Visual Output**: The generated visual assets are shown directly within the Google Colab interface, including photographs that capture the spirit of the provided descriptions, movies that unravel storylines, and animated GIFs that illustrate certain moments. This quick representation enables users to check and evaluate the created content's relevancy and quality.\n",
        "\n",
        "* **Versatile uses**: The generated media assets can be used in a variety of contexts, ranging from creative activities to practical uses in marketing, design, narrative, and other industries. Furthermore, these outputs may be used as building blocks for additional editing, analysis, or inclusion into larger projects.\n"
      ],
      "metadata": {
        "id": "j4zJpzyBqD-p"
      }
    },
    {
      "cell_type": "markdown",
      "source": [
        "### Modification/New Specification\n",
        "\n",
        "* **API Authentication**: To begin, enter your Replicate API key into the system. This key is required to authenticate and use the Replicate API's features.\n",
        "\n",
        "* **Input Prompts**: Create prompts that describe the content you want to generate. For example, you may enter descriptions like \"A serene landscape with mountains and a lake\" for photos, or start and end scenarios like \"A sunrise over a calm ocean\" and \"The sun setting behind a city skyline\" for video creation.\n",
        "\n",
        "* **Media Creation**: Using the Replicate API's functionalities, you can create photos, videos, and GIFs based on these prompts. The API uses these prompts to generate material that corresponds to or understands the descriptions provided.\n",
        "\n",
        "* **Displaying Generated Content**: Once generated, photos, movies, and GIFs can be seen directly within the Google Colab environment by utilizing the relevant display tools. This enables instant view of the generated material.\n",
        "\n",
        "* **Modification and Further Usage**: Depending on the individual objectives and requirements, these generated media assets can be edited, used for analysis, or included into multiple projects.\n"
      ],
      "metadata": {
        "id": "jv5keaSRqgpK"
      }
    },
    {
      "cell_type": "markdown",
      "source": [
        "# 1) This process is to install replicate in our google colab notebook"
      ],
      "metadata": {
        "id": "KscP6qEZsYIM"
      }
    },
    {
      "cell_type": "code",
      "execution_count": null,
      "metadata": {
        "colab": {
          "base_uri": "https://localhost:8080/"
        },
        "id": "sH6k2w4z7-Hw",
        "outputId": "77ee5043-8de3-4276-88dd-a60c9d125399"
      },
      "outputs": [
        {
          "output_type": "stream",
          "name": "stdout",
          "text": [
            "Collecting replicate\n",
            "  Downloading replicate-0.21.0-py3-none-any.whl (34 kB)\n",
            "Collecting httpx<1,>=0.21.0 (from replicate)\n",
            "  Downloading httpx-0.25.2-py3-none-any.whl (74 kB)\n",
            "\u001b[2K     \u001b[90m━━━━━━━━━━━━━━━━━━━━━━━━━━━━━━━━━━━━━━━━\u001b[0m \u001b[32m75.0/75.0 kB\u001b[0m \u001b[31m1.8 MB/s\u001b[0m eta \u001b[36m0:00:00\u001b[0m\n",
            "\u001b[?25hRequirement already satisfied: packaging in /usr/local/lib/python3.10/dist-packages (from replicate) (23.2)\n",
            "Requirement already satisfied: pydantic>1 in /usr/local/lib/python3.10/dist-packages (from replicate) (1.10.13)\n",
            "Requirement already satisfied: typing-extensions>=4.5.0 in /usr/local/lib/python3.10/dist-packages (from replicate) (4.5.0)\n",
            "Requirement already satisfied: anyio in /usr/local/lib/python3.10/dist-packages (from httpx<1,>=0.21.0->replicate) (3.7.1)\n",
            "Requirement already satisfied: certifi in /usr/local/lib/python3.10/dist-packages (from httpx<1,>=0.21.0->replicate) (2023.11.17)\n",
            "Collecting httpcore==1.* (from httpx<1,>=0.21.0->replicate)\n",
            "  Downloading httpcore-1.0.2-py3-none-any.whl (76 kB)\n",
            "\u001b[2K     \u001b[90m━━━━━━━━━━━━━━━━━━━━━━━━━━━━━━━━━━━━━━━━\u001b[0m \u001b[32m76.9/76.9 kB\u001b[0m \u001b[31m6.4 MB/s\u001b[0m eta \u001b[36m0:00:00\u001b[0m\n",
            "\u001b[?25hRequirement already satisfied: idna in /usr/local/lib/python3.10/dist-packages (from httpx<1,>=0.21.0->replicate) (3.6)\n",
            "Requirement already satisfied: sniffio in /usr/local/lib/python3.10/dist-packages (from httpx<1,>=0.21.0->replicate) (1.3.0)\n",
            "Collecting h11<0.15,>=0.13 (from httpcore==1.*->httpx<1,>=0.21.0->replicate)\n",
            "  Downloading h11-0.14.0-py3-none-any.whl (58 kB)\n",
            "\u001b[2K     \u001b[90m━━━━━━━━━━━━━━━━━━━━━━━━━━━━━━━━━━━━━━━━\u001b[0m \u001b[32m58.3/58.3 kB\u001b[0m \u001b[31m8.5 MB/s\u001b[0m eta \u001b[36m0:00:00\u001b[0m\n",
            "\u001b[?25hRequirement already satisfied: exceptiongroup in /usr/local/lib/python3.10/dist-packages (from anyio->httpx<1,>=0.21.0->replicate) (1.2.0)\n",
            "Installing collected packages: h11, httpcore, httpx, replicate\n",
            "Successfully installed h11-0.14.0 httpcore-1.0.2 httpx-0.25.2 replicate-0.21.0\n"
          ]
        }
      ],
      "source": [
        "# @title Install Replicate\n",
        "!pip install replicate\n"
      ]
    },
    {
      "cell_type": "markdown",
      "source": [
        "# 2) This step is to export our API in the google colab Notebook which is used to generate Iamges and Videos and GIFs"
      ],
      "metadata": {
        "id": "ppIJUwD6skRB"
      }
    },
    {
      "cell_type": "code",
      "source": [
        "API = \"r8_V4JzS92vewNodW796e7HTWM0S6Mekhd4ZwBVs\"\n",
        "import os\n",
        "\n",
        "os.environ[\"REPLICATE_API_TOKEN\"] = API #find it here: https://replicate.com/signin?next=/account/api-tokens"
      ],
      "metadata": {
        "id": "FYCtnQZDlqZZ"
      },
      "execution_count": null,
      "outputs": []
    },
    {
      "cell_type": "markdown",
      "source": [
        "# 3) This step is to generate an image in our google colab notebook"
      ],
      "metadata": {
        "id": "ghvyYSHYs1KT"
      }
    },
    {
      "cell_type": "code",
      "source": [
        "# @title Generate Image\n",
        "prompt = \"Robot Wearing Sunglasses\"\n",
        "import replicate\n",
        "\n",
        "output = replicate.run(\n",
        "  \"stability-ai/stable-diffusion:27b93a2413e7f36cd83da926f3656280b2931564ff050bf9575f1fdf9bcd7478\",\n",
        "  input={\"prompt\":prompt}\n",
        ")\n",
        "\n",
        "output"
      ],
      "metadata": {
        "id": "HoEceNpTlzjE",
        "outputId": "41dcfbee-4e95-424e-b7a2-6ed2d08734a9",
        "colab": {
          "base_uri": "https://localhost:8080/"
        }
      },
      "execution_count": null,
      "outputs": [
        {
          "output_type": "execute_result",
          "data": {
            "text/plain": [
              "['https://replicate.delivery/pbxt/Sa5NrBRWG0oXK9XNiBIQbSATvYLkOzwEe3vXGpTMTTOw4IfRA/out-0.png']"
            ]
          },
          "metadata": {},
          "execution_count": 3
        }
      ]
    },
    {
      "cell_type": "markdown",
      "source": [
        "# 4) This step is to show our Generated image on Google colab Notebook"
      ],
      "metadata": {
        "id": "CrfFJWoQtFQa"
      }
    },
    {
      "cell_type": "code",
      "source": [
        "\n",
        "from IPython.display import Image\n",
        "output_image = output\n",
        "Image(url=output_image[0])"
      ],
      "metadata": {
        "id": "eUZbVWswl7OC",
        "outputId": "77698492-11f9-4e13-a4d8-aec68f7a285c",
        "colab": {
          "base_uri": "https://localhost:8080/",
          "height": 533
        }
      },
      "execution_count": null,
      "outputs": [
        {
          "output_type": "execute_result",
          "data": {
            "text/html": [
              "<img src=\"https://replicate.delivery/pbxt/Sa5NrBRWG0oXK9XNiBIQbSATvYLkOzwEe3vXGpTMTTOw4IfRA/out-0.png\"/>"
            ],
            "text/plain": [
              "<IPython.core.display.Image object>"
            ]
          },
          "metadata": {},
          "execution_count": 4
        }
      ]
    },
    {
      "cell_type": "markdown",
      "source": [
        "# 5) This Step is to Generate Video/Gif/Animation in the google colab Notebook using prompt."
      ],
      "metadata": {
        "id": "Uieqe7AYtTSN"
      }
    },
    {
      "cell_type": "code",
      "source": [
        "# @title Video/gif/animation/Generation\n",
        "import replicate\n",
        "\n",
        "output = replicate.run(\n",
        "    \"andreasjansson/stable-diffusion-animation:ca1f5e306e5721e19c473e0d094e6603f0456fe759c10715fcd6c1b79242d4a5\",\n",
        "    input={\n",
        "        \"prompt_start\": \"robot Start running \",\n",
        "        \"prompt_end\": \"robot wearing sunglasses\",\n",
        "        \"output_format\": \"gif\",\n",
        "        \"gif_ping_pong\": True\n",
        "    }\n",
        ")\n",
        "\n",
        "output\n"
      ],
      "metadata": {
        "id": "6e9xdZavl-h1",
        "outputId": "c5b6b076-8499-4fb0-a769-ccfd4199befe",
        "colab": {
          "base_uri": "https://localhost:8080/"
        }
      },
      "execution_count": null,
      "outputs": [
        {
          "output_type": "execute_result",
          "data": {
            "text/plain": [
              "<generator object Prediction.output_iterator at 0x7c5dde534120>"
            ]
          },
          "metadata": {},
          "execution_count": 6
        }
      ]
    },
    {
      "cell_type": "markdown",
      "source": [
        "# 6) This step is to generate a video in google *colab*"
      ],
      "metadata": {
        "id": "eaVUkcx3tnUg"
      }
    },
    {
      "cell_type": "code",
      "source": [
        "# @title generate video\n",
        "for item in output:\n",
        "     #https://replicate.com/andreasjansson/stable-diffusion-animation/versions/ca1f5e306e5721e19c473e0d094e6603f0456fe759c10715fcd6c1b79242d4a5/api#output-schema\n",
        "    print(item)"
      ],
      "metadata": {
        "id": "RAGe2-zRmMKP",
        "outputId": "4323dfbe-5e96-40d4-e18c-f138719f53ba",
        "colab": {
          "base_uri": "https://localhost:8080/"
        }
      },
      "execution_count": null,
      "outputs": [
        {
          "output_type": "stream",
          "name": "stdout",
          "text": [
            "https://replicate.delivery/pbxt/eS404C5eckpOm0kYSudK4tHkR4biVCQda1frsRSZFpfEaH5HB/video.gif\n"
          ]
        }
      ]
    },
    {
      "cell_type": "markdown",
      "source": [
        "# 7) This step is to Get the video in the google colab"
      ],
      "metadata": {
        "id": "OZATf-fpz0s2"
      }
    },
    {
      "cell_type": "code",
      "source": [
        "# @title get the video on colab\n",
        "gif_url= item[0:len(item)]"
      ],
      "metadata": {
        "id": "EgeEX5q2mO5c"
      },
      "execution_count": null,
      "outputs": []
    },
    {
      "cell_type": "markdown",
      "source": [
        "# 8) This step is to show the generated video on the google colab"
      ],
      "metadata": {
        "id": "NowA6oRDz75A"
      }
    },
    {
      "cell_type": "code",
      "source": [
        "# @title Show the video\n",
        "import requests\n",
        "from IPython.display import display, Image\n",
        "from PIL import Image as PILImage\n",
        "from io import BytesIO\n",
        "response = requests.get(gif_url)\n",
        "if response.status_code == 200:\n",
        "    # Display the GIF in the notebook\n",
        "    display(Image(url=gif_url))\n",
        "\n",
        "    # Save the GIF in the Colab environment\n",
        "    with open(\"gif_output.gif\", \"wb\") as f:\n",
        "        f.write(response.content)\n",
        "\n",
        "    # Show a saved GIF using PIL\n",
        "    saved_gif = PILImage.open(\"gif_output.gif\")\n",
        "    saved_gif.show()\n",
        "else:\n",
        "    print(\"Failed to fetch GIF\")\n"
      ],
      "metadata": {
        "id": "6DHW7LtFmXzG",
        "outputId": "990e9056-3d28-4c8a-ebe6-614b5f147436",
        "colab": {
          "base_uri": "https://localhost:8080/",
          "height": 533
        }
      },
      "execution_count": null,
      "outputs": [
        {
          "output_type": "display_data",
          "data": {
            "text/html": [
              "<img src=\"https://replicate.delivery/pbxt/eS404C5eckpOm0kYSudK4tHkR4biVCQda1frsRSZFpfEaH5HB/video.gif\"/>"
            ],
            "text/plain": [
              "<IPython.core.display.Image object>"
            ]
          },
          "metadata": {}
        }
      ]
    },
    {
      "cell_type": "markdown",
      "source": [
        "# Address Specific Criteria :\n",
        "\n",
        "## Algorithmic Advancements\n",
        "* Enhanced Model Training: The Replicate API might incorporate algorithmic advancements that improve the efficiency and speed of training AI models, reducing the time required for model convergence while maintaining or even enhancing model accuracy.\n",
        "\n",
        "* **Optimized Data Replication**: Algorithmic improvements could streamline the process of replicating complex data structures, allowing for faster data transfer and storage, thereby enhancing the scalability of AI applications.\n",
        "\n",
        "## Efficiency Improvements\n",
        "\n",
        "* **Resource Optimization**: The integration might introduce resource-efficient algorithms, allowing users to generate high-quality visual content with reduced computational resources, making it more accessible to a wider user base.\n",
        "\n",
        "* **Faster Content Generation**: Through optimizations in data processing and model inference, the Replicate API could significantly reduce the time taken to generate images, videos, or GIFs based on given prompts.\n",
        "\n",
        "## Innovative Applications\n",
        "\n",
        "* **Creative Content Generation**: Users can leverage the API's capabilities for innovative storytelling, design prototyping, or artistic creation by translating textual prompts into visually compelling content.\n",
        "* **Personalized Media Creation**: Innovative applications could include the creation of personalized visual content for marketing, social media, or educational purposes, tailored to specific textual instructions or user preferences.\n",
        "* **Data Augmentation and Exploration**: The API's capabilities might extend to innovative data augmentation techniques or data exploration methods, allowing users to visualize and understand complex datasets through generated visual representations."
      ],
      "metadata": {
        "id": "xQmoviLbEive"
      }
    },
    {
      "cell_type": "markdown",
      "source": [
        "# Reference\n",
        "\n",
        "* Replicate Documentation: (n.d.). Replicate. https://replicate.com/docs/get-started/python\n",
        "\n",
        "* andreasjansson/stable-diffusion-animation – Replicate. (n.d.). https://replicate.com/andreasjansson/stable-diffusion-animation/api?tab=nodejs\n",
        "\n",
        "* Sign in – Replicate.  https://replicate.com/account/api-tokens"
      ],
      "metadata": {
        "id": "9hx-49sf0ECp"
      }
    },
    {
      "cell_type": "markdown",
      "source": [
        "# Video Link\n",
        "\n",
        "https://drive.google.com/file/d/13v_Y0LKRCfUu7oqQB_07Em7U1ioOYl0p/view?usp=drivesdk"
      ],
      "metadata": {
        "id": "gAieFQhW0YAO"
      }
    },
    {
      "cell_type": "markdown",
      "source": [
        "```\n",
        "Thankyou\n",
        "```\n",
        "---"
      ],
      "metadata": {
        "id": "CJwKjZec0aCp"
      }
    }
  ]
}